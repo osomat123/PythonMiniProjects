{
 "cells": [
  {
   "cell_type": "code",
   "execution_count": 2,
   "metadata": {},
   "outputs": [],
   "source": [
    "import os\n",
    "import pyttsx3\n",
    "import json\n",
    "import speech_recognition as sr\n",
    "import webbrowser\n",
    "import subprocess as sp"
   ]
  },
  {
   "cell_type": "markdown",
   "metadata": {},
   "source": [
    "# Version 1.0"
   ]
  },
  {
   "cell_type": "code",
   "execution_count": null,
   "metadata": {},
   "outputs": [],
   "source": [
    "print(\"Welcome to tools\\n\")\n",
    "pyttsx3.speak(\"Welcome to tools\")\n",
    "\n",
    "print(\"Press 1 to open Slack\")\n",
    "print(\"Press 2 to open Whatsapp\")\n",
    "print(\"Press 3 to open Atom\")\n",
    "print(\"Press 4 to open Pycharm\")\n",
    "print(\"Press 5 to open VLC\\n\")\n",
    "\n",
    "app = int(input(\"Your Choice -> \"))\n",
    "command = ''\n",
    "\n",
    "if app == 1:\n",
    "    command = 'open /Applications/Slack.app'\n",
    "    print('Opening...')\n",
    "    \n",
    "elif app == 2:\n",
    "    command = 'open /Applications/Whatsapp.app'\n",
    "    print('Opening...')\n",
    "    \n",
    "elif app == 3:\n",
    "    command = 'open /Applications/Atom.app'\n",
    "    print('Opening...')\n",
    "    \n",
    "elif app == 4:\n",
    "    command = 'open /Applications/Pycharm\\ CE.app'\n",
    "    print('Opening...')\n",
    "    \n",
    "elif app == 5:\n",
    "    command = 'open /Applications/VLC.app'\n",
    "    print('Opening...')\n",
    "    \n",
    "else:\n",
    "    print('Invalid Input')\n",
    "    \n",
    "os.system(command)    "
   ]
  },
  {
   "cell_type": "markdown",
   "metadata": {},
   "source": [
    "# Version 1.4"
   ]
  },
  {
   "cell_type": "code",
   "execution_count": 7,
   "metadata": {},
   "outputs": [],
   "source": [
    "def getApps():\n",
    "    \n",
    "    try:\n",
    "        with open(\"apps.json\",\"r\") as read_file:\n",
    "            strApps = read_file.read()\n",
    "            apps = eval(json.loads(strApps))\n",
    "        \n",
    "    except FileNotFoundError:\n",
    "        \n",
    "        apps = {}\n",
    "\n",
    "        for (path,app,file) in os.walk('/Applications'):\n",
    "            if path.endswith('.app') and path.count('.app') == 1:\n",
    "                app = path[1:].split('/')[-1].replace('.app','')  # Get app name\n",
    "                path = path.replace(' ','\\ ') # Set app path\n",
    "                apps[app] = path\n",
    "\n",
    "        for (path,app,file) in os.walk('/System/Applications'):\n",
    "            if path.endswith('.app') and path.count('.app') == 1:\n",
    "                app = path[1:].split('/')[-1].replace('.app','') # Get app name\n",
    "                path = path.replace(' ','\\ ') # Set app path\n",
    "                apps[app] = path\n",
    "                \n",
    "        with open(\"apps.json\",'w') as file:\n",
    "            file.write(json.dumps(str(apps)))\n",
    "            \n",
    "    try:\n",
    "        with open(\"nicknames.json\",\"r\") as read_file:\n",
    "            strApps = read_file.read()\n",
    "            nicks = eval(json.loads(strApps))\n",
    "            apps.update(nicks)\n",
    "            \n",
    "    except FileNotFoundError:\n",
    "        pass\n",
    "    \n",
    "    return apps"
   ]
  },
  {
   "cell_type": "code",
   "execution_count": 8,
   "metadata": {},
   "outputs": [],
   "source": [
    "def addNick(nick,longApp):\n",
    "    \n",
    "    flag = 0\n",
    "    \n",
    "    with open(\"apps.json\",\"r\") as read_file:\n",
    "        strApps = read_file.read()\n",
    "        apps = eval(json.loads(strApps))\n",
    "        \n",
    "    try:\n",
    "        with open(\"nicknames.json\",\"r\") as read_file:\n",
    "            strApps = read_file.read()\n",
    "            nicks = eval(json.loads(strApps))\n",
    "            \n",
    "    except FileNotFoundError:\n",
    "        nicks = {}\n",
    "        \n",
    "    newNicks = nicks\n",
    "    \n",
    "    for app in apps.keys():\n",
    "        if app.upper() == longApp:\n",
    "            nicks[nick] = apps[app]\n",
    "            flag = 1\n",
    "            break\n",
    "    \n",
    "    if flag ==0:\n",
    "        return False\n",
    "    \n",
    "    with open(\"nicknames.json\",'w') as file:\n",
    "        file.write(json.dumps(str(newNicks)))\n",
    "    \n",
    "    return True"
   ]
  },
  {
   "cell_type": "code",
   "execution_count": 9,
   "metadata": {},
   "outputs": [],
   "source": [
    "def get_speech():\n",
    "    r = sr.Recognizer()\n",
    "    \n",
    "    with sr.Microphone() as source:\n",
    "        print(\"Speak Now...\")\n",
    "        audio = r.listen(source)\n",
    "        print(\"Processing...\")\n",
    "        \n",
    "    return r.recognize_google(audio)"
   ]
  },
  {
   "cell_type": "code",
   "execution_count": null,
   "metadata": {},
   "outputs": [],
   "source": [
    "def search_google(voice):\n",
    "    query = voice.replace(\" \",\"+\").strip()\n",
    "    url = \"https://www.google.com/search?q=\"+query\n",
    "    webbrowser.get().open_new(url)"
   ]
  },
  {
   "cell_type": "code",
   "execution_count": null,
   "metadata": {},
   "outputs": [],
   "source": [
    "print(\"Initializing...\\n\")\n",
    "valid = ['RUN','OPEN','EXECUTE','BYE','EXIT','QUIT','ADD NICKNAME','HELP','STOP','CIAO']\n",
    "ques = ['WHAT','WHICH','WHEN','WHERE','WHO','WHOM','WHOSE','WHY','WHETHER','HOW','GOOGLE']\n",
    "apps = getApps()\n",
    "\n",
    "print(\"Welcome to Py Assistant\")\n",
    "print(\"How can I help?\\n\")\n",
    "pyttsx3.speak(\"Welcome to Py Assistant....How can I help?\")\n",
    "\n",
    "print(\"Let me know if you need help\\n\")\n",
    "pyttsx3.speak(\"Let me know if you need help\")\n",
    "\n",
    "while True:\n",
    "    \n",
    "    input(\"Press Enter and start speaking...\")\n",
    "    print()\n",
    "    voice = get_speech()\n",
    "    print('You said \"',voice,'\"')\n",
    "    \n",
    "    query = voice.upper()\n",
    "    appFound = 0\n",
    "    commandValid = 0\n",
    "    \n",
    "    for interrogative in ques:\n",
    "        if interrogative in query:\n",
    "            search_google(voice)\n",
    "            break\n",
    "        continue\n",
    "    \n",
    "    for command in valid:\n",
    "        if command in query:\n",
    "            commandValid = 1\n",
    "            break\n",
    "    \n",
    "    if commandValid == 0:\n",
    "        print('Sorry, operation not supported\\n')\n",
    "        pyttsx3.speak('Sorry, operation not supported.')\n",
    "        continue\n",
    "\n",
    "    if \"HELP\" in query:\n",
    "        f = open(\"help.txt\",'r')\n",
    "        print(f.read())\n",
    "        f.close()\n",
    "        continue\n",
    "        \n",
    "    if (\"BYE\" == query) or (\"EXIT\" == query) or (\"QUIT\" == query) or ('STOP' == query) or ('CIAO' == query):\n",
    "        print(\"Bye!\\n\")\n",
    "        pyttsx3.speak(\"Bye.\")\n",
    "        break\n",
    "        \n",
    "    if 'ADD NICKNAME'in query:\n",
    "        names = [i.strip() for i in query.split('FOR')]\n",
    "        nick = names[0][13:]\n",
    "        longApp = names[1]\n",
    "        \n",
    "        if nick in apps:\n",
    "            print(\"Nickname already exists. Give another nickname.\\n\")\n",
    "            pyttsx3.speak(\"Nickname already exists. Give another nickname\")\n",
    "            continue\n",
    "        \n",
    "        ret = addNick(nick,longApp)\n",
    "        \n",
    "        if ret == True:\n",
    "            with open(\"nicknames.json\",\"r\") as read_file:\n",
    "                strApps = read_file.read()\n",
    "                nicks = eval(json.loads(strApps))\n",
    "                \n",
    "            apps.update(nicks)\n",
    "                \n",
    "            print(\"Nickname added.\\n\")\n",
    "            pyttsx3.speak(\"Nickname added.\")\n",
    "            appFound = 1\n",
    "            \n",
    "    if ('RUN' in query) or ('OPEN' in query) or ('EXECUTE' in query):\n",
    "        for app in apps.keys():\n",
    "            if app.upper() in query:\n",
    "                command = 'open '+apps[app]\n",
    "                print(\"Sure!\\nOpening \"+app+\" ...\\n\")\n",
    "                pyttsx3.speak(\"Sure.....Opening \"+app)\n",
    "                os.system(command)\n",
    "                appFound = 1\n",
    "                break        \n",
    "\n",
    "    if appFound == 0:\n",
    "        print('Application not found. Try Again!\\n')\n",
    "        pyttsx3.speak(\"Application not found. Try Again!\")\n",
    "        \n",
    "    os.system('clear')"
   ]
  },
  {
   "cell_type": "code",
   "execution_count": 27,
   "metadata": {},
   "outputs": [
    {
     "data": {
      "text/plain": [
       "True"
      ]
     },
     "execution_count": 27,
     "metadata": {},
     "output_type": "execute_result"
    }
   ],
   "source": [
    "voice = \"how to basic\"\n",
    "query = voice.replace(\" \",\"+\").strip()\n",
    "url = \"https://www.google.com/search?q=\"+query\n",
    "webbrowser.get().open_new(url)"
   ]
  },
  {
   "cell_type": "code",
   "execution_count": 19,
   "metadata": {},
   "outputs": [
    {
     "name": "stdout",
     "output_type": "stream",
     "text": [
      "how+to+basic\n"
     ]
    }
   ],
   "source": [
    "print(query.strip())"
   ]
  },
  {
   "cell_type": "code",
   "execution_count": null,
   "metadata": {},
   "outputs": [],
   "source": []
  }
 ],
 "metadata": {
  "kernelspec": {
   "display_name": "Python 3",
   "language": "python",
   "name": "python3"
  },
  "language_info": {
   "codemirror_mode": {
    "name": "ipython",
    "version": 3
   },
   "file_extension": ".py",
   "mimetype": "text/x-python",
   "name": "python",
   "nbconvert_exporter": "python",
   "pygments_lexer": "ipython3",
   "version": "3.7.7"
  }
 },
 "nbformat": 4,
 "nbformat_minor": 4
}
